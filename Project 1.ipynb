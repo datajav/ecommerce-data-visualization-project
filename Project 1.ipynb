{
 "cells": [
  {
   "cell_type": "code",
   "execution_count": 30,
   "id": "e59e8024",
   "metadata": {},
   "outputs": [
    {
     "data": {
      "application/javascript": "\n        if (window._pyforest_update_imports_cell) { window._pyforest_update_imports_cell('import matplotlib.pyplot as plt\\nimport pandas as pd'); }\n    ",
      "text/plain": [
       "<IPython.core.display.Javascript object>"
      ]
     },
     "metadata": {},
     "output_type": "display_data"
    }
   ],
   "source": [
    "df = pd.read_csv(\"C:/Users/Javaughn/OneDrive/Documents/Data Portfolio/Project Introduction/synthetic_online_retail_data.csv\")"
   ]
  },
  {
   "cell_type": "code",
   "execution_count": 31,
   "id": "78d189a4",
   "metadata": {},
   "outputs": [
    {
     "data": {
      "application/vnd.microsoft.datawrangler.viewer.v0+json": {
       "columns": [
        {
         "name": "index",
         "rawType": "int64",
         "type": "integer"
        },
        {
         "name": "customer_id",
         "rawType": "int64",
         "type": "integer"
        },
        {
         "name": "order_date",
         "rawType": "object",
         "type": "string"
        },
        {
         "name": "product_id",
         "rawType": "int64",
         "type": "integer"
        },
        {
         "name": "category_id",
         "rawType": "int64",
         "type": "integer"
        },
        {
         "name": "category_name",
         "rawType": "object",
         "type": "string"
        },
        {
         "name": "product_name",
         "rawType": "object",
         "type": "string"
        },
        {
         "name": "quantity",
         "rawType": "int64",
         "type": "integer"
        },
        {
         "name": "price",
         "rawType": "float64",
         "type": "float"
        },
        {
         "name": "payment_method",
         "rawType": "object",
         "type": "string"
        },
        {
         "name": "city",
         "rawType": "object",
         "type": "string"
        },
        {
         "name": "review_score",
         "rawType": "float64",
         "type": "float"
        },
        {
         "name": "gender",
         "rawType": "object",
         "type": "string"
        },
        {
         "name": "age",
         "rawType": "int64",
         "type": "integer"
        }
       ],
       "conversionMethod": "pd.DataFrame",
       "ref": "ce6764d4-cd72-49a5-8f29-ec020991318b",
       "rows": [
        [
         "0",
         "13542",
         "2024-12-17",
         "784",
         "10",
         "Electronics",
         "Smartphone",
         "2",
         "373.36",
         "Credit Card",
         "New Oliviaberg",
         "1.0",
         "F",
         "56"
        ],
        [
         "1",
         "23188",
         "2024-06-01",
         "682",
         "50",
         "Sports & Outdoors",
         "Soccer Ball",
         "5",
         "299.34",
         "Credit Card",
         "Port Matthew",
         null,
         "M",
         "59"
        ],
        [
         "2",
         "55098",
         "2025-02-04",
         "684",
         "50",
         "Sports & Outdoors",
         "Tent",
         "5",
         "23.0",
         "Credit Card",
         "West Sarah",
         "5.0",
         "F",
         "64"
        ],
        [
         "3",
         "65208",
         "2024-10-28",
         "204",
         "40",
         "Books & Stationery",
         "Story Book",
         "2",
         "230.11",
         "Bank Transfer",
         "Hernandezburgh",
         "5.0",
         "M",
         "34"
        ],
        [
         "4",
         "63872",
         "2024-05-10",
         "202",
         "20",
         "Fashion",
         "Skirt",
         "4",
         "176.72",
         "Credit Card",
         "Jenkinshaven",
         "1.0",
         "F",
         "33"
        ]
       ],
       "shape": {
        "columns": 13,
        "rows": 5
       }
      },
      "text/html": [
       "<div>\n",
       "<style scoped>\n",
       "    .dataframe tbody tr th:only-of-type {\n",
       "        vertical-align: middle;\n",
       "    }\n",
       "\n",
       "    .dataframe tbody tr th {\n",
       "        vertical-align: top;\n",
       "    }\n",
       "\n",
       "    .dataframe thead th {\n",
       "        text-align: right;\n",
       "    }\n",
       "</style>\n",
       "<table border=\"1\" class=\"dataframe\">\n",
       "  <thead>\n",
       "    <tr style=\"text-align: right;\">\n",
       "      <th></th>\n",
       "      <th>customer_id</th>\n",
       "      <th>order_date</th>\n",
       "      <th>product_id</th>\n",
       "      <th>category_id</th>\n",
       "      <th>category_name</th>\n",
       "      <th>product_name</th>\n",
       "      <th>quantity</th>\n",
       "      <th>price</th>\n",
       "      <th>payment_method</th>\n",
       "      <th>city</th>\n",
       "      <th>review_score</th>\n",
       "      <th>gender</th>\n",
       "      <th>age</th>\n",
       "    </tr>\n",
       "  </thead>\n",
       "  <tbody>\n",
       "    <tr>\n",
       "      <th>0</th>\n",
       "      <td>13542</td>\n",
       "      <td>2024-12-17</td>\n",
       "      <td>784</td>\n",
       "      <td>10</td>\n",
       "      <td>Electronics</td>\n",
       "      <td>Smartphone</td>\n",
       "      <td>2</td>\n",
       "      <td>373.36</td>\n",
       "      <td>Credit Card</td>\n",
       "      <td>New Oliviaberg</td>\n",
       "      <td>1.0</td>\n",
       "      <td>F</td>\n",
       "      <td>56</td>\n",
       "    </tr>\n",
       "    <tr>\n",
       "      <th>1</th>\n",
       "      <td>23188</td>\n",
       "      <td>2024-06-01</td>\n",
       "      <td>682</td>\n",
       "      <td>50</td>\n",
       "      <td>Sports &amp; Outdoors</td>\n",
       "      <td>Soccer Ball</td>\n",
       "      <td>5</td>\n",
       "      <td>299.34</td>\n",
       "      <td>Credit Card</td>\n",
       "      <td>Port Matthew</td>\n",
       "      <td>NaN</td>\n",
       "      <td>M</td>\n",
       "      <td>59</td>\n",
       "    </tr>\n",
       "    <tr>\n",
       "      <th>2</th>\n",
       "      <td>55098</td>\n",
       "      <td>2025-02-04</td>\n",
       "      <td>684</td>\n",
       "      <td>50</td>\n",
       "      <td>Sports &amp; Outdoors</td>\n",
       "      <td>Tent</td>\n",
       "      <td>5</td>\n",
       "      <td>23.00</td>\n",
       "      <td>Credit Card</td>\n",
       "      <td>West Sarah</td>\n",
       "      <td>5.0</td>\n",
       "      <td>F</td>\n",
       "      <td>64</td>\n",
       "    </tr>\n",
       "    <tr>\n",
       "      <th>3</th>\n",
       "      <td>65208</td>\n",
       "      <td>2024-10-28</td>\n",
       "      <td>204</td>\n",
       "      <td>40</td>\n",
       "      <td>Books &amp; Stationery</td>\n",
       "      <td>Story Book</td>\n",
       "      <td>2</td>\n",
       "      <td>230.11</td>\n",
       "      <td>Bank Transfer</td>\n",
       "      <td>Hernandezburgh</td>\n",
       "      <td>5.0</td>\n",
       "      <td>M</td>\n",
       "      <td>34</td>\n",
       "    </tr>\n",
       "    <tr>\n",
       "      <th>4</th>\n",
       "      <td>63872</td>\n",
       "      <td>2024-05-10</td>\n",
       "      <td>202</td>\n",
       "      <td>20</td>\n",
       "      <td>Fashion</td>\n",
       "      <td>Skirt</td>\n",
       "      <td>4</td>\n",
       "      <td>176.72</td>\n",
       "      <td>Credit Card</td>\n",
       "      <td>Jenkinshaven</td>\n",
       "      <td>1.0</td>\n",
       "      <td>F</td>\n",
       "      <td>33</td>\n",
       "    </tr>\n",
       "  </tbody>\n",
       "</table>\n",
       "</div>"
      ],
      "text/plain": [
       "   customer_id  order_date  product_id  category_id       category_name  \\\n",
       "0        13542  2024-12-17         784           10         Electronics   \n",
       "1        23188  2024-06-01         682           50   Sports & Outdoors   \n",
       "2        55098  2025-02-04         684           50   Sports & Outdoors   \n",
       "3        65208  2024-10-28         204           40  Books & Stationery   \n",
       "4        63872  2024-05-10         202           20             Fashion   \n",
       "\n",
       "  product_name  quantity   price payment_method            city  review_score  \\\n",
       "0   Smartphone         2  373.36    Credit Card  New Oliviaberg           1.0   \n",
       "1  Soccer Ball         5  299.34    Credit Card    Port Matthew           NaN   \n",
       "2         Tent         5   23.00    Credit Card      West Sarah           5.0   \n",
       "3   Story Book         2  230.11  Bank Transfer  Hernandezburgh           5.0   \n",
       "4        Skirt         4  176.72    Credit Card    Jenkinshaven           1.0   \n",
       "\n",
       "  gender  age  \n",
       "0      F   56  \n",
       "1      M   59  \n",
       "2      F   64  \n",
       "3      M   34  \n",
       "4      F   33  "
      ]
     },
     "execution_count": 31,
     "metadata": {},
     "output_type": "execute_result"
    }
   ],
   "source": [
    "df.head()"
   ]
  },
  {
   "cell_type": "code",
   "execution_count": 32,
   "id": "b033b5c6",
   "metadata": {},
   "outputs": [
    {
     "data": {
      "application/vnd.microsoft.datawrangler.viewer.v0+json": {
       "columns": [
        {
         "name": "index",
         "rawType": "int64",
         "type": "integer"
        },
        {
         "name": "customer_id",
         "rawType": "int64",
         "type": "integer"
        },
        {
         "name": "order_date",
         "rawType": "object",
         "type": "string"
        },
        {
         "name": "product_id",
         "rawType": "int64",
         "type": "integer"
        },
        {
         "name": "category_id",
         "rawType": "int64",
         "type": "integer"
        },
        {
         "name": "category_name",
         "rawType": "object",
         "type": "string"
        },
        {
         "name": "product_name",
         "rawType": "object",
         "type": "string"
        },
        {
         "name": "quantity",
         "rawType": "int64",
         "type": "integer"
        },
        {
         "name": "price",
         "rawType": "float64",
         "type": "float"
        },
        {
         "name": "payment_method",
         "rawType": "object",
         "type": "string"
        },
        {
         "name": "city",
         "rawType": "object",
         "type": "string"
        },
        {
         "name": "review_score",
         "rawType": "float64",
         "type": "float"
        },
        {
         "name": "gender",
         "rawType": "object",
         "type": "string"
        },
        {
         "name": "age",
         "rawType": "int64",
         "type": "integer"
        }
       ],
       "conversionMethod": "pd.DataFrame",
       "ref": "6a9b46bb-13f4-40b4-b90b-92965c07a56d",
       "rows": [
        [
         "0",
         "13542",
         "2024-12-17",
         "784",
         "10",
         "Electronics",
         "Smartphone",
         "2",
         "373.36",
         "Credit Card",
         "New Oliviaberg",
         "1.0",
         "F",
         "56"
        ],
        [
         "2",
         "55098",
         "2025-02-04",
         "684",
         "50",
         "Sports & Outdoors",
         "Tent",
         "5",
         "23.0",
         "Credit Card",
         "West Sarah",
         "5.0",
         "F",
         "64"
        ],
        [
         "3",
         "65208",
         "2024-10-28",
         "204",
         "40",
         "Books & Stationery",
         "Story Book",
         "2",
         "230.11",
         "Bank Transfer",
         "Hernandezburgh",
         "5.0",
         "M",
         "34"
        ],
        [
         "4",
         "63872",
         "2024-05-10",
         "202",
         "20",
         "Fashion",
         "Skirt",
         "4",
         "176.72",
         "Credit Card",
         "Jenkinshaven",
         "1.0",
         "F",
         "33"
        ],
        [
         "5",
         "29989",
         "2024-12-03",
         "829",
         "10",
         "Electronics",
         "Smartphone",
         "4",
         "196.16",
         "Bank Transfer",
         "East Tonyaberg",
         "5.0",
         "F",
         "21"
        ]
       ],
       "shape": {
        "columns": 13,
        "rows": 5
       }
      },
      "text/html": [
       "<div>\n",
       "<style scoped>\n",
       "    .dataframe tbody tr th:only-of-type {\n",
       "        vertical-align: middle;\n",
       "    }\n",
       "\n",
       "    .dataframe tbody tr th {\n",
       "        vertical-align: top;\n",
       "    }\n",
       "\n",
       "    .dataframe thead th {\n",
       "        text-align: right;\n",
       "    }\n",
       "</style>\n",
       "<table border=\"1\" class=\"dataframe\">\n",
       "  <thead>\n",
       "    <tr style=\"text-align: right;\">\n",
       "      <th></th>\n",
       "      <th>customer_id</th>\n",
       "      <th>order_date</th>\n",
       "      <th>product_id</th>\n",
       "      <th>category_id</th>\n",
       "      <th>category_name</th>\n",
       "      <th>product_name</th>\n",
       "      <th>quantity</th>\n",
       "      <th>price</th>\n",
       "      <th>payment_method</th>\n",
       "      <th>city</th>\n",
       "      <th>review_score</th>\n",
       "      <th>gender</th>\n",
       "      <th>age</th>\n",
       "    </tr>\n",
       "  </thead>\n",
       "  <tbody>\n",
       "    <tr>\n",
       "      <th>0</th>\n",
       "      <td>13542</td>\n",
       "      <td>2024-12-17</td>\n",
       "      <td>784</td>\n",
       "      <td>10</td>\n",
       "      <td>Electronics</td>\n",
       "      <td>Smartphone</td>\n",
       "      <td>2</td>\n",
       "      <td>373.36</td>\n",
       "      <td>Credit Card</td>\n",
       "      <td>New Oliviaberg</td>\n",
       "      <td>1.0</td>\n",
       "      <td>F</td>\n",
       "      <td>56</td>\n",
       "    </tr>\n",
       "    <tr>\n",
       "      <th>2</th>\n",
       "      <td>55098</td>\n",
       "      <td>2025-02-04</td>\n",
       "      <td>684</td>\n",
       "      <td>50</td>\n",
       "      <td>Sports &amp; Outdoors</td>\n",
       "      <td>Tent</td>\n",
       "      <td>5</td>\n",
       "      <td>23.00</td>\n",
       "      <td>Credit Card</td>\n",
       "      <td>West Sarah</td>\n",
       "      <td>5.0</td>\n",
       "      <td>F</td>\n",
       "      <td>64</td>\n",
       "    </tr>\n",
       "    <tr>\n",
       "      <th>3</th>\n",
       "      <td>65208</td>\n",
       "      <td>2024-10-28</td>\n",
       "      <td>204</td>\n",
       "      <td>40</td>\n",
       "      <td>Books &amp; Stationery</td>\n",
       "      <td>Story Book</td>\n",
       "      <td>2</td>\n",
       "      <td>230.11</td>\n",
       "      <td>Bank Transfer</td>\n",
       "      <td>Hernandezburgh</td>\n",
       "      <td>5.0</td>\n",
       "      <td>M</td>\n",
       "      <td>34</td>\n",
       "    </tr>\n",
       "    <tr>\n",
       "      <th>4</th>\n",
       "      <td>63872</td>\n",
       "      <td>2024-05-10</td>\n",
       "      <td>202</td>\n",
       "      <td>20</td>\n",
       "      <td>Fashion</td>\n",
       "      <td>Skirt</td>\n",
       "      <td>4</td>\n",
       "      <td>176.72</td>\n",
       "      <td>Credit Card</td>\n",
       "      <td>Jenkinshaven</td>\n",
       "      <td>1.0</td>\n",
       "      <td>F</td>\n",
       "      <td>33</td>\n",
       "    </tr>\n",
       "    <tr>\n",
       "      <th>5</th>\n",
       "      <td>29989</td>\n",
       "      <td>2024-12-03</td>\n",
       "      <td>829</td>\n",
       "      <td>10</td>\n",
       "      <td>Electronics</td>\n",
       "      <td>Smartphone</td>\n",
       "      <td>4</td>\n",
       "      <td>196.16</td>\n",
       "      <td>Bank Transfer</td>\n",
       "      <td>East Tonyaberg</td>\n",
       "      <td>5.0</td>\n",
       "      <td>F</td>\n",
       "      <td>21</td>\n",
       "    </tr>\n",
       "  </tbody>\n",
       "</table>\n",
       "</div>"
      ],
      "text/plain": [
       "   customer_id  order_date  product_id  category_id       category_name  \\\n",
       "0        13542  2024-12-17         784           10         Electronics   \n",
       "2        55098  2025-02-04         684           50   Sports & Outdoors   \n",
       "3        65208  2024-10-28         204           40  Books & Stationery   \n",
       "4        63872  2024-05-10         202           20             Fashion   \n",
       "5        29989  2024-12-03         829           10         Electronics   \n",
       "\n",
       "  product_name  quantity   price payment_method            city  review_score  \\\n",
       "0   Smartphone         2  373.36    Credit Card  New Oliviaberg           1.0   \n",
       "2         Tent         5   23.00    Credit Card      West Sarah           5.0   \n",
       "3   Story Book         2  230.11  Bank Transfer  Hernandezburgh           5.0   \n",
       "4        Skirt         4  176.72    Credit Card    Jenkinshaven           1.0   \n",
       "5   Smartphone         4  196.16  Bank Transfer  East Tonyaberg           5.0   \n",
       "\n",
       "  gender  age  \n",
       "0      F   56  \n",
       "2      F   64  \n",
       "3      M   34  \n",
       "4      F   33  \n",
       "5      F   21  "
      ]
     },
     "execution_count": 32,
     "metadata": {},
     "output_type": "execute_result"
    }
   ],
   "source": [
    "\"\"\"\n",
    "Cell generated by Data Wrangler.\n",
    "\"\"\"\n",
    "def clean_data(df):\n",
    "    # Drop rows with missing data across all columns\n",
    "    df = df.dropna()\n",
    "    # Drop duplicate rows across all columns\n",
    "    df = df.drop_duplicates()\n",
    "    return df\n",
    "\n",
    "df_clean = clean_data(df.copy())\n",
    "df_clean.head()"
   ]
  },
  {
   "cell_type": "code",
   "execution_count": null,
   "id": "952de42f",
   "metadata": {},
   "outputs": [],
   "source": [
    "\"\"\"\n",
    "Cell generated by Data Wrangler.\n",
    "\"\"\"\n",
    "def clean_data(df_clean):\n",
    "    # Rename column 'review_score' to 'score'\n",
    "    df_clean = df_clean.rename(columns={'review_score': 'score'})\n",
    "    return df_clean\n",
    "\n",
    "df_clean_1 = clean_data(df_clean.copy())\n",
    "df_clean_1.head()"
   ]
  },
  {
   "cell_type": "code",
   "execution_count": 6,
   "id": "4171f935",
   "metadata": {},
   "outputs": [
    {
     "data": {
      "application/vnd.microsoft.datawrangler.viewer.v0+json": {
       "columns": [
        {
         "name": "index",
         "rawType": "object",
         "type": "string"
        },
        {
         "name": "customer_id",
         "rawType": "float64",
         "type": "float"
        },
        {
         "name": "product_id",
         "rawType": "float64",
         "type": "float"
        },
        {
         "name": "category_id",
         "rawType": "float64",
         "type": "float"
        },
        {
         "name": "quantity",
         "rawType": "float64",
         "type": "float"
        },
        {
         "name": "price",
         "rawType": "float64",
         "type": "float"
        },
        {
         "name": "review_score",
         "rawType": "float64",
         "type": "float"
        },
        {
         "name": "age",
         "rawType": "float64",
         "type": "float"
        }
       ],
       "conversionMethod": "pd.DataFrame",
       "ref": "9a8a9e50-0c5a-43f6-8500-318f1734696f",
       "rows": [
        [
         "count",
         "721.0",
         "721.0",
         "721.0",
         "721.0",
         "721.0",
         "721.0",
         "721.0"
        ],
        [
         "mean",
         "55378.40499306519",
         "546.746185852982",
         "29.542302357836338",
         "2.9029126213592233",
         "257.13833564493757",
         "3.9764216366158114",
         "46.64493758668516"
        ],
        [
         "std",
         "25689.405857109818",
         "260.7052362556735",
         "14.373440001251053",
         "1.4148046014944693",
         "139.98910178813313",
         "1.25642745724096",
         "16.551900865249394"
        ],
        [
         "min",
         "10211.0",
         "101.0",
         "10.0",
         "1.0",
         "10.72",
         "1.0",
         "18.0"
        ],
        [
         "25%",
         "34224.0",
         "317.0",
         "20.0",
         "2.0",
         "137.89",
         "3.0",
         "32.0"
        ],
        [
         "50%",
         "54645.0",
         "554.0",
         "30.0",
         "3.0",
         "255.9",
         "4.0",
         "48.0"
        ],
        [
         "75%",
         "77150.0",
         "775.0",
         "40.0",
         "4.0",
         "373.83",
         "5.0",
         "61.0"
        ],
        [
         "max",
         "99909.0",
         "994.0",
         "50.0",
         "5.0",
         "498.66",
         "5.0",
         "75.0"
        ]
       ],
       "shape": {
        "columns": 7,
        "rows": 8
       }
      },
      "text/html": [
       "<div>\n",
       "<style scoped>\n",
       "    .dataframe tbody tr th:only-of-type {\n",
       "        vertical-align: middle;\n",
       "    }\n",
       "\n",
       "    .dataframe tbody tr th {\n",
       "        vertical-align: top;\n",
       "    }\n",
       "\n",
       "    .dataframe thead th {\n",
       "        text-align: right;\n",
       "    }\n",
       "</style>\n",
       "<table border=\"1\" class=\"dataframe\">\n",
       "  <thead>\n",
       "    <tr style=\"text-align: right;\">\n",
       "      <th></th>\n",
       "      <th>customer_id</th>\n",
       "      <th>product_id</th>\n",
       "      <th>category_id</th>\n",
       "      <th>quantity</th>\n",
       "      <th>price</th>\n",
       "      <th>review_score</th>\n",
       "      <th>age</th>\n",
       "    </tr>\n",
       "  </thead>\n",
       "  <tbody>\n",
       "    <tr>\n",
       "      <th>count</th>\n",
       "      <td>721.000000</td>\n",
       "      <td>721.000000</td>\n",
       "      <td>721.000000</td>\n",
       "      <td>721.000000</td>\n",
       "      <td>721.000000</td>\n",
       "      <td>721.000000</td>\n",
       "      <td>721.000000</td>\n",
       "    </tr>\n",
       "    <tr>\n",
       "      <th>mean</th>\n",
       "      <td>55378.404993</td>\n",
       "      <td>546.746186</td>\n",
       "      <td>29.542302</td>\n",
       "      <td>2.902913</td>\n",
       "      <td>257.138336</td>\n",
       "      <td>3.976422</td>\n",
       "      <td>46.644938</td>\n",
       "    </tr>\n",
       "    <tr>\n",
       "      <th>std</th>\n",
       "      <td>25689.405857</td>\n",
       "      <td>260.705236</td>\n",
       "      <td>14.373440</td>\n",
       "      <td>1.414805</td>\n",
       "      <td>139.989102</td>\n",
       "      <td>1.256427</td>\n",
       "      <td>16.551901</td>\n",
       "    </tr>\n",
       "    <tr>\n",
       "      <th>min</th>\n",
       "      <td>10211.000000</td>\n",
       "      <td>101.000000</td>\n",
       "      <td>10.000000</td>\n",
       "      <td>1.000000</td>\n",
       "      <td>10.720000</td>\n",
       "      <td>1.000000</td>\n",
       "      <td>18.000000</td>\n",
       "    </tr>\n",
       "    <tr>\n",
       "      <th>25%</th>\n",
       "      <td>34224.000000</td>\n",
       "      <td>317.000000</td>\n",
       "      <td>20.000000</td>\n",
       "      <td>2.000000</td>\n",
       "      <td>137.890000</td>\n",
       "      <td>3.000000</td>\n",
       "      <td>32.000000</td>\n",
       "    </tr>\n",
       "    <tr>\n",
       "      <th>50%</th>\n",
       "      <td>54645.000000</td>\n",
       "      <td>554.000000</td>\n",
       "      <td>30.000000</td>\n",
       "      <td>3.000000</td>\n",
       "      <td>255.900000</td>\n",
       "      <td>4.000000</td>\n",
       "      <td>48.000000</td>\n",
       "    </tr>\n",
       "    <tr>\n",
       "      <th>75%</th>\n",
       "      <td>77150.000000</td>\n",
       "      <td>775.000000</td>\n",
       "      <td>40.000000</td>\n",
       "      <td>4.000000</td>\n",
       "      <td>373.830000</td>\n",
       "      <td>5.000000</td>\n",
       "      <td>61.000000</td>\n",
       "    </tr>\n",
       "    <tr>\n",
       "      <th>max</th>\n",
       "      <td>99909.000000</td>\n",
       "      <td>994.000000</td>\n",
       "      <td>50.000000</td>\n",
       "      <td>5.000000</td>\n",
       "      <td>498.660000</td>\n",
       "      <td>5.000000</td>\n",
       "      <td>75.000000</td>\n",
       "    </tr>\n",
       "  </tbody>\n",
       "</table>\n",
       "</div>"
      ],
      "text/plain": [
       "        customer_id  product_id  category_id    quantity       price  \\\n",
       "count    721.000000  721.000000   721.000000  721.000000  721.000000   \n",
       "mean   55378.404993  546.746186    29.542302    2.902913  257.138336   \n",
       "std    25689.405857  260.705236    14.373440    1.414805  139.989102   \n",
       "min    10211.000000  101.000000    10.000000    1.000000   10.720000   \n",
       "25%    34224.000000  317.000000    20.000000    2.000000  137.890000   \n",
       "50%    54645.000000  554.000000    30.000000    3.000000  255.900000   \n",
       "75%    77150.000000  775.000000    40.000000    4.000000  373.830000   \n",
       "max    99909.000000  994.000000    50.000000    5.000000  498.660000   \n",
       "\n",
       "       review_score         age  \n",
       "count    721.000000  721.000000  \n",
       "mean       3.976422   46.644938  \n",
       "std        1.256427   16.551901  \n",
       "min        1.000000   18.000000  \n",
       "25%        3.000000   32.000000  \n",
       "50%        4.000000   48.000000  \n",
       "75%        5.000000   61.000000  \n",
       "max        5.000000   75.000000  "
      ]
     },
     "execution_count": 6,
     "metadata": {},
     "output_type": "execute_result"
    }
   ],
   "source": [
    "df_clean.describe() #After cleaning and removing duplicates, missing values"
   ]
  },
  {
   "cell_type": "code",
   "execution_count": 11,
   "id": "71cbed76",
   "metadata": {},
   "outputs": [],
   "source": [
    "import matplotlib.pyplot as plt\n",
    "import seaborn as sns   "
   ]
  },
  {
   "cell_type": "code",
   "execution_count": 41,
   "id": "ba68f062",
   "metadata": {},
   "outputs": [
    {
     "data": {
      "image/png": "[encoded data removed]",
      "text/plain": [
       "<Figure size 800x600 with 1 Axes>"
      ]
     },
     "metadata": {},
     "output_type": "display_data"
    }
   ],
   "source": [
    "plt.figure(figsize=(8, 6))\n",
    "plt.hist(df_clean['review_score'], bins=5, color='green', alpha=0.9, edgecolor='black')\n",
    "plt.title('Distribution of Review Scores')\n",
    "plt.xlabel('Review Score')\n",
    "plt.ylabel('Frequency')\n",
    "plt.show()"
   ]
  },
  {
   "cell_type": "code",
   "execution_count": null,
   "id": "7f2e3e16",
   "metadata": {},
   "outputs": [],
   "source": []
  }
 ],
 "metadata": {
  "kernelspec": {
   "display_name": "Python 3",
   "language": "python",
   "name": "python3"
  },
  "language_info": {
   "codemirror_mode": {
    "name": "ipython",
    "version": 3
   },
   "file_extension": ".py",
   "mimetype": "text/x-python",
   "name": "python",
   "nbconvert_exporter": "python",
   "pygments_lexer": "ipython3",
   "version": "3.12.3"
  }
 },
 "nbformat": 4,
 "nbformat_minor": 5
}
